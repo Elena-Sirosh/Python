{
 "cells": [
  {
   "cell_type": "markdown",
   "id": "c0ef8317-2cbc-43bf-bd9e-a862850fef47",
   "metadata": {},
   "source": [
    "# Automatic File Sorter in File Explorer"
   ]
  },
  {
   "cell_type": "code",
   "execution_count": 1,
   "id": "d8e610c7-3413-4068-83c5-bd492da40b58",
   "metadata": {},
   "outputs": [],
   "source": [
    "import os, shutil"
   ]
  },
  {
   "cell_type": "code",
   "execution_count": 23,
   "id": "3e4baff9-278f-4d59-b3e1-2d60f6701367",
   "metadata": {},
   "outputs": [],
   "source": [
    "path = r\"D:/Desktop/Programming/Data Analyst Bootcamp/Python/Portfolio Projects/Automatic File Sorter in File Explorer/Files/\""
   ]
  },
  {
   "cell_type": "code",
   "execution_count": 28,
   "id": "347a6672-1d66-48a7-9a7a-414fa71c0572",
   "metadata": {},
   "outputs": [],
   "source": [
    "file_name = os.listdir(path)"
   ]
  },
  {
   "cell_type": "code",
   "execution_count": 25,
   "id": "4e3dab75-ce52-470f-874a-8fc38a742be6",
   "metadata": {},
   "outputs": [
    {
     "name": "stdout",
     "output_type": "stream",
     "text": [
      "D:/Desktop/Programming/Data Analyst Bootcamp/Python/Portfolio Projects/Automatic File Sorter in File Explorer/Files/text files\n"
     ]
    }
   ],
   "source": [
    "folder_names = ['image files', 'xlsx files', 'text files']\n",
    "\n",
    "for loop in range(0,3):\n",
    "    if not os.path.exists(path + folder_names[loop]):\n",
    "        print(path + folder_names[loop])\n",
    "        os.makedirs(path + folder_names[loop])"
   ]
  },
  {
   "cell_type": "code",
   "execution_count": 34,
   "id": "f078645f-27e6-46ac-86bf-781f7208e32d",
   "metadata": {},
   "outputs": [
    {
     "name": "stdout",
     "output_type": "stream",
     "text": [
      "There are files in this path that were not moved!\n",
      "There are files in this path that were not moved!\n",
      "There are files in this path that were not moved!\n",
      "There are files in this path that were not moved!\n",
      "There are files in this path that were not moved!\n",
      "There are files in this path that were not moved!\n"
     ]
    }
   ],
   "source": [
    "for file in file_name:\n",
    "    if '.xlsx' in file and not os.path.exists(path + 'xlsx files/' + file):\n",
    "        shutil.move(path + file, path + 'xlsx files/' + file)\n",
    "    elif '.jpg' in file and not os.path.exists(path + 'image files/' + file):\n",
    "        shutil.move(path + file, path + 'image files/' + file)\n",
    "    elif '.txt' in file and not os.path.exists(path + 'text files/' + file):\n",
    "        shutil.move(path + file, path + 'text files/' + file)\n",
    "    else:\n",
    "        print(\"There are files in this path that were not moved!\")\n",
    "\n",
    "\n",
    "\n",
    "\n"
   ]
  },
  {
   "cell_type": "code",
   "execution_count": null,
   "id": "86cfb380-df65-4903-9a12-8df4e7151ee2",
   "metadata": {},
   "outputs": [],
   "source": []
  },
  {
   "cell_type": "code",
   "execution_count": null,
   "id": "d385a08e-3a7a-4a70-9d0a-fdcf5f3d46f0",
   "metadata": {},
   "outputs": [],
   "source": []
  }
 ],
 "metadata": {
  "kernelspec": {
   "display_name": "Python 3 (ipykernel)",
   "language": "python",
   "name": "python3"
  },
  "language_info": {
   "codemirror_mode": {
    "name": "ipython",
    "version": 3
   },
   "file_extension": ".py",
   "mimetype": "text/x-python",
   "name": "python",
   "nbconvert_exporter": "python",
   "pygments_lexer": "ipython3",
   "version": "3.11.7"
  }
 },
 "nbformat": 4,
 "nbformat_minor": 5
}
