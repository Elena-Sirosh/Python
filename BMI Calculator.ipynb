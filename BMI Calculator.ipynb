{
 "cells": [
  {
   "cell_type": "markdown",
   "id": "5215d037-d387-4ba5-8a65-d0fe3131aa11",
   "metadata": {},
   "source": [
    "# BMI Calculator"
   ]
  },
  {
   "cell_type": "code",
   "execution_count": null,
   "id": "9c4541bf-a7a5-4fc0-9f44-d2683dec062b",
   "metadata": {},
   "outputs": [],
   "source": [
    "name = input(\"Enter your name: \")\n",
    "\n",
    "weight = int(input(\"Enter your weight in pounds: \"))\n",
    "\n",
    "height = int(input(\"Enter your height in inches: \"))\n",
    "\n",
    "BMI = (weight * 703) / (height * height)\n",
    "\n",
    "print(BMI)\n",
    "\n",
    "if BMI > 0:\n",
    "    if(BMI < 18.5):\n",
    "        print(name + \", you are underweight. Consult your health care provider.\")\n",
    "    elif (BMI <= 24.9):\n",
    "        print(name + \", you are Normal weight. You are in a good shape!\")\n",
    "    elif (BMI <= 29.9):\n",
    "        print(name + \", you are Overweight. You need to exercise more and eat a healthy diet\")\n",
    "    elif (BMI <= 34.9):\n",
    "        print(name + \", you are Obese. You need to exercise more and eat a healthy diet\")\n",
    "    elif (BMI <= 39.9):\n",
    "        print(name + \", you are Severely Obese. You need to exercise more and eat a healthy diet\")\n",
    "    else:\n",
    "        print(name + \", you are Morbidly Obese. You need to exercise more and eat a healthy diet\")\n",
    "else:\n",
    "    print(\"Enter valid input\")\n"
   ]
  },
  {
   "cell_type": "code",
   "execution_count": null,
   "id": "6b4b2867-0e08-42ac-ae3b-4c1ca7e94863",
   "metadata": {},
   "outputs": [],
   "source": []
  },
  {
   "cell_type": "code",
   "execution_count": null,
   "id": "c4aaf818-e85b-49a8-9af6-09153710b78c",
   "metadata": {},
   "outputs": [],
   "source": []
  },
  {
   "cell_type": "code",
   "execution_count": null,
   "id": "68aaaf66-3ef8-4ad8-b16e-432de3bcf64f",
   "metadata": {},
   "outputs": [],
   "source": []
  },
  {
   "cell_type": "code",
   "execution_count": null,
   "id": "48927654-a946-4fac-9c3f-fb874724d76e",
   "metadata": {},
   "outputs": [],
   "source": []
  },
  {
   "cell_type": "code",
   "execution_count": null,
   "id": "1a974cb3-b4dd-49ce-979e-68b49532a266",
   "metadata": {},
   "outputs": [],
   "source": []
  },
  {
   "cell_type": "code",
   "execution_count": null,
   "id": "39ecc315-661b-41f7-8754-5534ca48c429",
   "metadata": {},
   "outputs": [],
   "source": []
  },
  {
   "cell_type": "code",
   "execution_count": null,
   "id": "79aaaba4-9e82-4db3-a944-17307ffe7977",
   "metadata": {},
   "outputs": [],
   "source": []
  },
  {
   "cell_type": "code",
   "execution_count": null,
   "id": "00b20b58-d246-41f7-91d4-8ae40cf66553",
   "metadata": {},
   "outputs": [],
   "source": []
  },
  {
   "cell_type": "code",
   "execution_count": null,
   "id": "8358f965-3a01-4720-9a70-fb0f04d2c9ca",
   "metadata": {},
   "outputs": [],
   "source": []
  },
  {
   "cell_type": "code",
   "execution_count": null,
   "id": "8ea2310f-9368-4196-8c73-829a2f96a5dc",
   "metadata": {},
   "outputs": [],
   "source": []
  }
 ],
 "metadata": {
  "kernelspec": {
   "display_name": "Python 3 (ipykernel)",
   "language": "python",
   "name": "python3"
  },
  "language_info": {
   "codemirror_mode": {
    "name": "ipython",
    "version": 3
   },
   "file_extension": ".py",
   "mimetype": "text/x-python",
   "name": "python",
   "nbconvert_exporter": "python",
   "pygments_lexer": "ipython3",
   "version": "3.11.7"
  }
 },
 "nbformat": 4,
 "nbformat_minor": 5
}
